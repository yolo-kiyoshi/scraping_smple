{
 "cells": [
  {
   "cell_type": "markdown",
   "metadata": {},
   "source": [
    "# 食べログのチェーン店一覧を取得する"
   ]
  },
  {
   "cell_type": "code",
   "execution_count": 76,
   "metadata": {},
   "outputs": [],
   "source": [
    "import matplotlib.pyplot as plt"
   ]
  },
  {
   "cell_type": "code",
   "execution_count": 45,
   "metadata": {},
   "outputs": [],
   "source": [
    "import requests\n",
    "from bs4 import BeautifulSoup\n",
    "import time\n",
    "import os\n",
    "import pandas as pd\n",
    "import codecs\n",
    "from urllib.parse import urljoin\n",
    "from lxml import html\n",
    "import sys"
   ]
  },
  {
   "cell_type": "code",
   "execution_count": 68,
   "metadata": {},
   "outputs": [],
   "source": [
    "page_cnt = 50\n",
    "N = 80"
   ]
  },
  {
   "cell_type": "code",
   "execution_count": 71,
   "metadata": {},
   "outputs": [
    {
     "name": "stdout",
     "output_type": "stream",
     "text": [
      "https://tabelog.com/grouplst/ completed.\n",
      "https://tabelog.com/grouplst/2 completed.\n",
      "https://tabelog.com/grouplst/3 completed.\n",
      "https://tabelog.com/grouplst/4 completed.\n",
      "https://tabelog.com/grouplst/5 completed.\n",
      "https://tabelog.com/grouplst/6 completed.\n",
      "https://tabelog.com/grouplst/7 completed.\n",
      "https://tabelog.com/grouplst/8 completed.\n",
      "https://tabelog.com/grouplst/9 completed.\n",
      "https://tabelog.com/grouplst/10 completed.\n",
      "https://tabelog.com/grouplst/11 completed.\n",
      "https://tabelog.com/grouplst/12 completed.\n",
      "https://tabelog.com/grouplst/13 completed.\n",
      "https://tabelog.com/grouplst/14 completed.\n",
      "https://tabelog.com/grouplst/15 completed.\n",
      "https://tabelog.com/grouplst/16 completed.\n",
      "https://tabelog.com/grouplst/17 completed.\n",
      "https://tabelog.com/grouplst/18 completed.\n",
      "https://tabelog.com/grouplst/19 completed.\n",
      "https://tabelog.com/grouplst/20 completed.\n",
      "https://tabelog.com/grouplst/21 completed.\n",
      "https://tabelog.com/grouplst/22 completed.\n",
      "https://tabelog.com/grouplst/23 completed.\n",
      "https://tabelog.com/grouplst/24 completed.\n",
      "https://tabelog.com/grouplst/25 completed.\n",
      "https://tabelog.com/grouplst/26 completed.\n",
      "https://tabelog.com/grouplst/27 completed.\n",
      "https://tabelog.com/grouplst/28 completed.\n",
      "https://tabelog.com/grouplst/29 completed.\n",
      "https://tabelog.com/grouplst/30 completed.\n",
      "https://tabelog.com/grouplst/31 completed.\n",
      "https://tabelog.com/grouplst/32 completed.\n",
      "https://tabelog.com/grouplst/33 completed.\n",
      "https://tabelog.com/grouplst/34 completed.\n",
      "https://tabelog.com/grouplst/35 completed.\n",
      "https://tabelog.com/grouplst/36 completed.\n",
      "https://tabelog.com/grouplst/37 completed.\n",
      "https://tabelog.com/grouplst/38 completed.\n",
      "https://tabelog.com/grouplst/39 completed.\n",
      "https://tabelog.com/grouplst/40 completed.\n",
      "https://tabelog.com/grouplst/41 completed.\n",
      "https://tabelog.com/grouplst/42 completed.\n",
      "https://tabelog.com/grouplst/43 completed.\n",
      "https://tabelog.com/grouplst/44 completed.\n",
      "https://tabelog.com/grouplst/45 completed.\n",
      "https://tabelog.com/grouplst/46 completed.\n",
      "https://tabelog.com/grouplst/47 completed.\n"
     ]
    },
    {
     "ename": "IndexError",
     "evalue": "list index out of range",
     "output_type": "error",
     "traceback": [
      "\u001b[0;31m---------------------------------------------------------------------------\u001b[0m",
      "\u001b[0;31mIndexError\u001b[0m                                Traceback (most recent call last)",
      "\u001b[0;32m<ipython-input-71-9e8598d65b25>\u001b[0m in \u001b[0;36m<module>\u001b[0;34m\u001b[0m\n\u001b[1;32m     21\u001b[0m     \u001b[0;32mfor\u001b[0m \u001b[0mi\u001b[0m \u001b[0;32min\u001b[0m \u001b[0mrange\u001b[0m\u001b[0;34m(\u001b[0m\u001b[0mN\u001b[0m\u001b[0;34m)\u001b[0m\u001b[0;34m:\u001b[0m\u001b[0;34m\u001b[0m\u001b[0;34m\u001b[0m\u001b[0m\n\u001b[1;32m     22\u001b[0m         \u001b[0me\u001b[0m \u001b[0;34m=\u001b[0m \u001b[0mlxml_coverted_data\u001b[0m\u001b[0;34m.\u001b[0m\u001b[0mxpath\u001b[0m\u001b[0;34m(\u001b[0m\u001b[0;34mf'/html/body/div[8]/div/div[1]/ul/li[{i+1}]/div[1]/span/a'\u001b[0m\u001b[0;34m)\u001b[0m\u001b[0;34m\u001b[0m\u001b[0;34m\u001b[0m\u001b[0m\n\u001b[0;32m---> 23\u001b[0;31m         \u001b[0mshop_name\u001b[0m\u001b[0;34m.\u001b[0m\u001b[0mappend\u001b[0m\u001b[0;34m(\u001b[0m\u001b[0me\u001b[0m\u001b[0;34m[\u001b[0m\u001b[0;36m0\u001b[0m\u001b[0;34m]\u001b[0m\u001b[0;34m.\u001b[0m\u001b[0mtext\u001b[0m\u001b[0;34m)\u001b[0m\u001b[0;34m\u001b[0m\u001b[0;34m\u001b[0m\u001b[0m\n\u001b[0m\u001b[1;32m     24\u001b[0m     \u001b[0mprint\u001b[0m\u001b[0;34m(\u001b[0m\u001b[0;34mf'{url} completed.'\u001b[0m\u001b[0;34m)\u001b[0m\u001b[0;34m\u001b[0m\u001b[0;34m\u001b[0m\u001b[0m\n\u001b[1;32m     25\u001b[0m     \u001b[0mtime\u001b[0m\u001b[0;34m.\u001b[0m\u001b[0msleep\u001b[0m\u001b[0;34m(\u001b[0m\u001b[0;36m5\u001b[0m\u001b[0;34m)\u001b[0m\u001b[0;34m\u001b[0m\u001b[0;34m\u001b[0m\u001b[0m\n",
      "\u001b[0;31mIndexError\u001b[0m: list index out of range"
     ]
    }
   ],
   "source": [
    "shop_name = list()\n",
    "\n",
    "for page in range(page_cnt):\n",
    "    \n",
    "    if page == 0:\n",
    "        url = 'https://tabelog.com/grouplst/'\n",
    "    else:\n",
    "        url = f'https://tabelog.com/grouplst/{page+1}'\n",
    "    \n",
    "    try:\n",
    "        res = requests.get(url)\n",
    "        res.raise_for_status()\n",
    "        # 参考: https://qiita.com/ysuzuki19/items/330065ae1fe420f200fd\n",
    "        html_ = BeautifulSoup(res.text, 'html.parser')\n",
    "        lxml_coverted_data = html.fromstring(str(html_))\n",
    "    except:\n",
    "        print(f'{url} is not existed. terminate process.')\n",
    "        sys.exit(1)\n",
    "\n",
    "    for i in range(N):\n",
    "        try:\n",
    "            e = lxml_coverted_data.xpath(f'/html/body/div[8]/div/div[1]/ul/li[{i+1}]/div[1]/span/a')\n",
    "        except:\n",
    "            print(f'last page has {i} shops.')\n",
    "            sys.exit(1)\n",
    "        shop_name.append(e[0].text)\n",
    "    print(f'{url} completed.')\n",
    "    time.sleep(5)"
   ]
  },
  {
   "cell_type": "code",
   "execution_count": 77,
   "metadata": {},
   "outputs": [],
   "source": [
    "pd.DataFrame(shop_name, columns=['chain_name']).to_csv('chain_name_tabelog.csv', index=False)"
   ]
  }
 ],
 "metadata": {
  "kernelspec": {
   "display_name": "Python 3",
   "language": "python",
   "name": "python3"
  },
  "language_info": {
   "codemirror_mode": {
    "name": "ipython",
    "version": 3
   },
   "file_extension": ".py",
   "mimetype": "text/x-python",
   "name": "python",
   "nbconvert_exporter": "python",
   "pygments_lexer": "ipython3",
   "version": "3.7.7"
  }
 },
 "nbformat": 4,
 "nbformat_minor": 4
}
